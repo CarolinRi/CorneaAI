{
  "nbformat": 4,
  "nbformat_minor": 0,
  "metadata": {
    "colab": {
      "provenance": [],
      "authorship_tag": "ABX9TyPfJHqK/Sey073xwwt3C/jO",
      "include_colab_link": true
    },
    "kernelspec": {
      "name": "python3",
      "display_name": "Python 3"
    },
    "language_info": {
      "name": "python"
    }
  },
  "cells": [
    {
      "cell_type": "markdown",
      "metadata": {
        "id": "view-in-github",
        "colab_type": "text"
      },
      "source": [
        "<a href=\"https://colab.research.google.com/github/CarolinRi/CorneaAI/blob/main/Clustering_V1.ipynb\" target=\"_parent\"><img src=\"https://colab.research.google.com/assets/colab-badge.svg\" alt=\"Open In Colab\"/></a>"
      ]
    },
    {
      "cell_type": "code",
      "source": [
        "!pip install data-science-utils"
      ],
      "metadata": {
        "colab": {
          "base_uri": "https://localhost:8080/"
        },
        "id": "Amut7mB2mj9w",
        "outputId": "3a804392-8ecb-4780-af77-c5dd3be75bbc"
      },
      "execution_count": 1,
      "outputs": [
        {
          "output_type": "stream",
          "name": "stdout",
          "text": [
            "Looking in indexes: https://pypi.org/simple, https://us-python.pkg.dev/colab-wheels/public/simple/\n",
            "Collecting data-science-utils\n",
            "  Downloading data_science_utils-1.7.1-py3-none-any.whl (21 kB)\n",
            "Requirement already satisfied: numpy>=1.3 in /usr/local/lib/python3.8/dist-packages (from data-science-utils) (1.21.6)\n",
            "Requirement already satisfied: pandas>=0.23.0 in /usr/local/lib/python3.8/dist-packages (from data-science-utils) (1.3.5)\n",
            "Requirement already satisfied: scikit-learn>=1.0.0 in /usr/local/lib/python3.8/dist-packages (from data-science-utils) (1.0.2)\n",
            "Requirement already satisfied: matplotlib>2.02 in /usr/local/lib/python3.8/dist-packages (from data-science-utils) (3.2.2)\n",
            "Requirement already satisfied: pydotplus>=2.0.2 in /usr/local/lib/python3.8/dist-packages (from data-science-utils) (2.0.2)\n",
            "Requirement already satisfied: joblib>=0.12 in /usr/local/lib/python3.8/dist-packages (from data-science-utils) (1.2.0)\n",
            "Requirement already satisfied: seaborn>=0.8.0 in /usr/local/lib/python3.8/dist-packages (from data-science-utils) (0.11.2)\n",
            "Requirement already satisfied: scipy>=1.0.0 in /usr/local/lib/python3.8/dist-packages (from data-science-utils) (1.7.3)\n",
            "Requirement already satisfied: python-dateutil>=2.1 in /usr/local/lib/python3.8/dist-packages (from matplotlib>2.02->data-science-utils) (2.8.2)\n",
            "Requirement already satisfied: pyparsing!=2.0.4,!=2.1.2,!=2.1.6,>=2.0.1 in /usr/local/lib/python3.8/dist-packages (from matplotlib>2.02->data-science-utils) (3.0.9)\n",
            "Requirement already satisfied: cycler>=0.10 in /usr/local/lib/python3.8/dist-packages (from matplotlib>2.02->data-science-utils) (0.11.0)\n",
            "Requirement already satisfied: kiwisolver>=1.0.1 in /usr/local/lib/python3.8/dist-packages (from matplotlib>2.02->data-science-utils) (1.4.4)\n",
            "Requirement already satisfied: pytz>=2017.3 in /usr/local/lib/python3.8/dist-packages (from pandas>=0.23.0->data-science-utils) (2022.7)\n",
            "Requirement already satisfied: threadpoolctl>=2.0.0 in /usr/local/lib/python3.8/dist-packages (from scikit-learn>=1.0.0->data-science-utils) (3.1.0)\n",
            "Requirement already satisfied: six>=1.5 in /usr/local/lib/python3.8/dist-packages (from python-dateutil>=2.1->matplotlib>2.02->data-science-utils) (1.15.0)\n",
            "Installing collected packages: data-science-utils\n",
            "Successfully installed data-science-utils-1.7.1\n"
          ]
        }
      ]
    },
    {
      "cell_type": "code",
      "execution_count": 2,
      "metadata": {
        "id": "KXp1OrsVEuHA"
      },
      "outputs": [],
      "source": [
        "import numpy as np\n",
        "import pandas as pd\n",
        "from matplotlib import pyplot as plt\n",
        "from sklearn.cluster import KMeans\n",
        "from sklearn.preprocessing import MinMaxScaler\n",
        "from sklearn.decomposition import PCA as sklearnPCA\n",
        "from sklearn.discriminant_analysis import LinearDiscriminantAnalysis as LDA\n",
        "from pandas.plotting import parallel_coordinates\n",
        "\n",
        "from ds_utils.unsupervised import plot_cluster_cardinality\n",
        "from ds_utils.unsupervised import plot_cluster_magnitude\n",
        "from scipy.spatial.distance import euclidean\n",
        "from ds_utils.unsupervised import plot_magnitude_vs_cardinality\n",
        "\n",
        "from sklearn import metrics\n",
        "from sklearn.metrics import pairwise_distances\n"
      ]
    },
    {
      "cell_type": "code",
      "source": [
        "#loading data from github\n",
        "url = 'https://raw.githubusercontent.com/CarolinRi/CorneaAI/main/Corneae.csv'\n",
        "data = pd.read_csv(url)\n",
        "\n",
        "data.head()"
      ],
      "metadata": {
        "colab": {
          "base_uri": "https://localhost:8080/",
          "height": 233
        },
        "id": "BrjFPJ2fK8Ae",
        "outputId": "957679e9-9562-4795-f0e1-089ec8967f18"
      },
      "execution_count": 3,
      "outputs": [
        {
          "output_type": "execute_result",
          "data": {
            "text/plain": [
              "     name     Sa       Sz    Str      Spc     Sdr     Sq    Ssk     Sku  \\\n",
              "0  Image1  2.614  274.947  0.748  618.077  0.4713  4.268 -0.695  43.153   \n",
              "1  Image2  2.322  109.784  0.795  493.983  0.2420  3.322 -0.136   8.819   \n",
              "2  Image3  2.290  144.892  0.672  483.631  0.1903  3.474  0.216  15.627   \n",
              "3  Image4  3.773  365.166  0.646  733.252  0.7382  6.251  0.782  27.244   \n",
              "4  Image5  2.926   77.283  0.619  642.364  0.4652  4.076 -0.021   6.527   \n",
              "\n",
              "        Sp  ...     Spk    Svk    Smr1    Smr2     Sxp    Vvv    Vvc    Vmp  \\\n",
              "0   95.619  ...   6.299  6.606  14.409  84.385   7.875  0.631  3.514  0.346   \n",
              "1   28.445  ...   4.749  4.769  14.482  86.266   7.084  0.463  3.451  0.243   \n",
              "2   88.407  ...   5.313  4.879  14.828  85.769   7.172  0.469  3.361  0.282   \n",
              "3  182.826  ...  10.205  9.136  14.988  83.627  12.522  0.881  5.098  0.576   \n",
              "4   32.810  ...   5.771  5.483  12.838  87.238   8.604  0.535  4.317  0.293   \n",
              "\n",
              "     Vmc    Area size  \n",
              "0  2.387  5698488.305  \n",
              "1  2.304  5698488.305  \n",
              "2  2.202  5698488.305  \n",
              "3  3.413  5698488.305  \n",
              "4  3.007  5698488.305  \n",
              "\n",
              "[5 rows x 26 columns]"
            ],
            "text/html": [
              "\n",
              "  <div id=\"df-c0b14acb-1740-44e5-a87d-2da02bae92e1\">\n",
              "    <div class=\"colab-df-container\">\n",
              "      <div>\n",
              "<style scoped>\n",
              "    .dataframe tbody tr th:only-of-type {\n",
              "        vertical-align: middle;\n",
              "    }\n",
              "\n",
              "    .dataframe tbody tr th {\n",
              "        vertical-align: top;\n",
              "    }\n",
              "\n",
              "    .dataframe thead th {\n",
              "        text-align: right;\n",
              "    }\n",
              "</style>\n",
              "<table border=\"1\" class=\"dataframe\">\n",
              "  <thead>\n",
              "    <tr style=\"text-align: right;\">\n",
              "      <th></th>\n",
              "      <th>name</th>\n",
              "      <th>Sa</th>\n",
              "      <th>Sz</th>\n",
              "      <th>Str</th>\n",
              "      <th>Spc</th>\n",
              "      <th>Sdr</th>\n",
              "      <th>Sq</th>\n",
              "      <th>Ssk</th>\n",
              "      <th>Sku</th>\n",
              "      <th>Sp</th>\n",
              "      <th>...</th>\n",
              "      <th>Spk</th>\n",
              "      <th>Svk</th>\n",
              "      <th>Smr1</th>\n",
              "      <th>Smr2</th>\n",
              "      <th>Sxp</th>\n",
              "      <th>Vvv</th>\n",
              "      <th>Vvc</th>\n",
              "      <th>Vmp</th>\n",
              "      <th>Vmc</th>\n",
              "      <th>Area size</th>\n",
              "    </tr>\n",
              "  </thead>\n",
              "  <tbody>\n",
              "    <tr>\n",
              "      <th>0</th>\n",
              "      <td>Image1</td>\n",
              "      <td>2.614</td>\n",
              "      <td>274.947</td>\n",
              "      <td>0.748</td>\n",
              "      <td>618.077</td>\n",
              "      <td>0.4713</td>\n",
              "      <td>4.268</td>\n",
              "      <td>-0.695</td>\n",
              "      <td>43.153</td>\n",
              "      <td>95.619</td>\n",
              "      <td>...</td>\n",
              "      <td>6.299</td>\n",
              "      <td>6.606</td>\n",
              "      <td>14.409</td>\n",
              "      <td>84.385</td>\n",
              "      <td>7.875</td>\n",
              "      <td>0.631</td>\n",
              "      <td>3.514</td>\n",
              "      <td>0.346</td>\n",
              "      <td>2.387</td>\n",
              "      <td>5698488.305</td>\n",
              "    </tr>\n",
              "    <tr>\n",
              "      <th>1</th>\n",
              "      <td>Image2</td>\n",
              "      <td>2.322</td>\n",
              "      <td>109.784</td>\n",
              "      <td>0.795</td>\n",
              "      <td>493.983</td>\n",
              "      <td>0.2420</td>\n",
              "      <td>3.322</td>\n",
              "      <td>-0.136</td>\n",
              "      <td>8.819</td>\n",
              "      <td>28.445</td>\n",
              "      <td>...</td>\n",
              "      <td>4.749</td>\n",
              "      <td>4.769</td>\n",
              "      <td>14.482</td>\n",
              "      <td>86.266</td>\n",
              "      <td>7.084</td>\n",
              "      <td>0.463</td>\n",
              "      <td>3.451</td>\n",
              "      <td>0.243</td>\n",
              "      <td>2.304</td>\n",
              "      <td>5698488.305</td>\n",
              "    </tr>\n",
              "    <tr>\n",
              "      <th>2</th>\n",
              "      <td>Image3</td>\n",
              "      <td>2.290</td>\n",
              "      <td>144.892</td>\n",
              "      <td>0.672</td>\n",
              "      <td>483.631</td>\n",
              "      <td>0.1903</td>\n",
              "      <td>3.474</td>\n",
              "      <td>0.216</td>\n",
              "      <td>15.627</td>\n",
              "      <td>88.407</td>\n",
              "      <td>...</td>\n",
              "      <td>5.313</td>\n",
              "      <td>4.879</td>\n",
              "      <td>14.828</td>\n",
              "      <td>85.769</td>\n",
              "      <td>7.172</td>\n",
              "      <td>0.469</td>\n",
              "      <td>3.361</td>\n",
              "      <td>0.282</td>\n",
              "      <td>2.202</td>\n",
              "      <td>5698488.305</td>\n",
              "    </tr>\n",
              "    <tr>\n",
              "      <th>3</th>\n",
              "      <td>Image4</td>\n",
              "      <td>3.773</td>\n",
              "      <td>365.166</td>\n",
              "      <td>0.646</td>\n",
              "      <td>733.252</td>\n",
              "      <td>0.7382</td>\n",
              "      <td>6.251</td>\n",
              "      <td>0.782</td>\n",
              "      <td>27.244</td>\n",
              "      <td>182.826</td>\n",
              "      <td>...</td>\n",
              "      <td>10.205</td>\n",
              "      <td>9.136</td>\n",
              "      <td>14.988</td>\n",
              "      <td>83.627</td>\n",
              "      <td>12.522</td>\n",
              "      <td>0.881</td>\n",
              "      <td>5.098</td>\n",
              "      <td>0.576</td>\n",
              "      <td>3.413</td>\n",
              "      <td>5698488.305</td>\n",
              "    </tr>\n",
              "    <tr>\n",
              "      <th>4</th>\n",
              "      <td>Image5</td>\n",
              "      <td>2.926</td>\n",
              "      <td>77.283</td>\n",
              "      <td>0.619</td>\n",
              "      <td>642.364</td>\n",
              "      <td>0.4652</td>\n",
              "      <td>4.076</td>\n",
              "      <td>-0.021</td>\n",
              "      <td>6.527</td>\n",
              "      <td>32.810</td>\n",
              "      <td>...</td>\n",
              "      <td>5.771</td>\n",
              "      <td>5.483</td>\n",
              "      <td>12.838</td>\n",
              "      <td>87.238</td>\n",
              "      <td>8.604</td>\n",
              "      <td>0.535</td>\n",
              "      <td>4.317</td>\n",
              "      <td>0.293</td>\n",
              "      <td>3.007</td>\n",
              "      <td>5698488.305</td>\n",
              "    </tr>\n",
              "  </tbody>\n",
              "</table>\n",
              "<p>5 rows × 26 columns</p>\n",
              "</div>\n",
              "      <button class=\"colab-df-convert\" onclick=\"convertToInteractive('df-c0b14acb-1740-44e5-a87d-2da02bae92e1')\"\n",
              "              title=\"Convert this dataframe to an interactive table.\"\n",
              "              style=\"display:none;\">\n",
              "        \n",
              "  <svg xmlns=\"http://www.w3.org/2000/svg\" height=\"24px\"viewBox=\"0 0 24 24\"\n",
              "       width=\"24px\">\n",
              "    <path d=\"M0 0h24v24H0V0z\" fill=\"none\"/>\n",
              "    <path d=\"M18.56 5.44l.94 2.06.94-2.06 2.06-.94-2.06-.94-.94-2.06-.94 2.06-2.06.94zm-11 1L8.5 8.5l.94-2.06 2.06-.94-2.06-.94L8.5 2.5l-.94 2.06-2.06.94zm10 10l.94 2.06.94-2.06 2.06-.94-2.06-.94-.94-2.06-.94 2.06-2.06.94z\"/><path d=\"M17.41 7.96l-1.37-1.37c-.4-.4-.92-.59-1.43-.59-.52 0-1.04.2-1.43.59L10.3 9.45l-7.72 7.72c-.78.78-.78 2.05 0 2.83L4 21.41c.39.39.9.59 1.41.59.51 0 1.02-.2 1.41-.59l7.78-7.78 2.81-2.81c.8-.78.8-2.07 0-2.86zM5.41 20L4 18.59l7.72-7.72 1.47 1.35L5.41 20z\"/>\n",
              "  </svg>\n",
              "      </button>\n",
              "      \n",
              "  <style>\n",
              "    .colab-df-container {\n",
              "      display:flex;\n",
              "      flex-wrap:wrap;\n",
              "      gap: 12px;\n",
              "    }\n",
              "\n",
              "    .colab-df-convert {\n",
              "      background-color: #E8F0FE;\n",
              "      border: none;\n",
              "      border-radius: 50%;\n",
              "      cursor: pointer;\n",
              "      display: none;\n",
              "      fill: #1967D2;\n",
              "      height: 32px;\n",
              "      padding: 0 0 0 0;\n",
              "      width: 32px;\n",
              "    }\n",
              "\n",
              "    .colab-df-convert:hover {\n",
              "      background-color: #E2EBFA;\n",
              "      box-shadow: 0px 1px 2px rgba(60, 64, 67, 0.3), 0px 1px 3px 1px rgba(60, 64, 67, 0.15);\n",
              "      fill: #174EA6;\n",
              "    }\n",
              "\n",
              "    [theme=dark] .colab-df-convert {\n",
              "      background-color: #3B4455;\n",
              "      fill: #D2E3FC;\n",
              "    }\n",
              "\n",
              "    [theme=dark] .colab-df-convert:hover {\n",
              "      background-color: #434B5C;\n",
              "      box-shadow: 0px 1px 3px 1px rgba(0, 0, 0, 0.15);\n",
              "      filter: drop-shadow(0px 1px 2px rgba(0, 0, 0, 0.3));\n",
              "      fill: #FFFFFF;\n",
              "    }\n",
              "  </style>\n",
              "\n",
              "      <script>\n",
              "        const buttonEl =\n",
              "          document.querySelector('#df-c0b14acb-1740-44e5-a87d-2da02bae92e1 button.colab-df-convert');\n",
              "        buttonEl.style.display =\n",
              "          google.colab.kernel.accessAllowed ? 'block' : 'none';\n",
              "\n",
              "        async function convertToInteractive(key) {\n",
              "          const element = document.querySelector('#df-c0b14acb-1740-44e5-a87d-2da02bae92e1');\n",
              "          const dataTable =\n",
              "            await google.colab.kernel.invokeFunction('convertToInteractive',\n",
              "                                                     [key], {});\n",
              "          if (!dataTable) return;\n",
              "\n",
              "          const docLinkHtml = 'Like what you see? Visit the ' +\n",
              "            '<a target=\"_blank\" href=https://colab.research.google.com/notebooks/data_table.ipynb>data table notebook</a>'\n",
              "            + ' to learn more about interactive tables.';\n",
              "          element.innerHTML = '';\n",
              "          dataTable['output_type'] = 'display_data';\n",
              "          await google.colab.output.renderOutput(dataTable, element);\n",
              "          const docLink = document.createElement('div');\n",
              "          docLink.innerHTML = docLinkHtml;\n",
              "          element.appendChild(docLink);\n",
              "        }\n",
              "      </script>\n",
              "    </div>\n",
              "  </div>\n",
              "  "
            ]
          },
          "metadata": {},
          "execution_count": 3
        }
      ]
    },
    {
      "cell_type": "code",
      "source": [
        "# defining and scaling evidence and defining labels\n",
        "to_drop = ['name', 'Area size']\n",
        "evidence = data.drop(columns = to_drop)\n",
        "\n",
        "# to_keep = ['Str', 'Ssk', 'Sku', 'Sal', 'Std', 'Smr1', 'Smr2', 'Sq', 'Sdr']\n",
        "# evidence = data[to_keep]\n",
        "\n",
        "evidence.hist(bins=15)\n",
        "evidence = evidence.values.tolist()\n",
        "\n",
        "scaler = MinMaxScaler()\n",
        "evidence = scaler.fit_transform(evidence)\n",
        "\n",
        "labels = data['name']\n",
        "labels = labels.values.tolist()\n"
      ],
      "metadata": {
        "colab": {
          "base_uri": "https://localhost:8080/",
          "height": 281
        },
        "id": "I8p1OxEUqV14",
        "outputId": "47df68b9-1dab-4e95-b5a5-97b62bbf1f84"
      },
      "execution_count": 12,
      "outputs": [
        {
          "output_type": "display_data",
          "data": {
            "text/plain": [
              "<Figure size 432x288 with 25 Axes>"
            ],
            "image/png": "[encoded data removed]"
          },
          "metadata": {
            "needs_background": "light"
          }
        }
      ]
    },
    {
      "cell_type": "code",
      "source": [
        "# principal component analysis\n",
        "\n",
        "pca = sklearnPCA(n_components=2) #2-dimensional PCA\n",
        "transformed = pd.DataFrame(pca.fit_transform(evidence.copy()))\n",
        "plt.scatter(transformed[:][0],transformed[:][1])\n"
      ],
      "metadata": {
        "colab": {
          "base_uri": "https://localhost:8080/",
          "height": 282
        },
        "id": "nFWb7HZCgknd",
        "outputId": "be41ab7c-fb13-44e1-e760-305959a32166"
      },
      "execution_count": 5,
      "outputs": [
        {
          "output_type": "execute_result",
          "data": {
            "text/plain": [
              "<matplotlib.collections.PathCollection at 0x7fe9e9af19d0>"
            ]
          },
          "metadata": {},
          "execution_count": 5
        },
        {
          "output_type": "display_data",
          "data": {
            "text/plain": [
              "<Figure size 432x288 with 1 Axes>"
            ],
            "image/png": "[encoded data removed]"
          },
          "metadata": {
            "needs_background": "light"
          }
        }
      ]
    },
    {
      "cell_type": "markdown",
      "source": [
        "**1. K means clustering**\n",
        "\n",
        "- centroid-based\n",
        "\n",
        "1.1 Elbow method to identify the optimal number of clusters\n",
        "\n",
        "The number of clusters is varied from 1 to 10 and the WCSS (Within-Cluster Sum of Square) wird berechnet. Die Elbow-shaped Kurve hat einen Punkt, an dem sich die Steigung der Kurven drastisch ändert. Dieser Punkt, der \"Ellenbogen\", wird als die ideale Anzahl an Clustern gesehen.\n",
        "\n",
        "1.2 Generate model and plot cluster result in reduced dimensions\n",
        "\n",
        "1.3 Get evaluation metrics"
      ],
      "metadata": {
        "id": "IMVjNb--Vhor"
      }
    },
    {
      "cell_type": "code",
      "source": [
        "wcss = []\n",
        "for i in range(1, 11):\n",
        "    kmeans = KMeans(n_clusters=i, init='k-means++', max_iter=300, n_init=10, random_state=None)\n",
        "    kmeans.fit(evidence)\n",
        "    wcss.append(kmeans.inertia_)\n",
        "plt.plot(range(1, 11), wcss)\n",
        "plt.title('Elbow Method')\n",
        "plt.xlabel('Number of clusters')\n",
        "plt.ylabel('WCSS')\n",
        "plt.show()"
      ],
      "metadata": {
        "id": "kX7kzxS621GJ",
        "colab": {
          "base_uri": "https://localhost:8080/",
          "height": 295
        },
        "outputId": "459d869c-3ac5-42d9-a5e3-9cbefc9c2c41"
      },
      "execution_count": 10,
      "outputs": [
        {
          "output_type": "display_data",
          "data": {
            "text/plain": [
              "<Figure size 432x288 with 1 Axes>"
            ],
            "image/png": "[encoded data removed]"
          },
          "metadata": {
            "needs_background": "light"
          }
        }
      ]
    },
    {
      "cell_type": "code",
      "source": [
        "# performing k means clustering with 4 clusters\n",
        "kmeans = KMeans(n_clusters=6, init='k-means++', max_iter=300, n_init=10, random_state=0)\n",
        "pred_y = kmeans.fit(evidence)\n",
        "\n",
        "# print(pred_y.labels_)\n",
        "\n",
        "# distances = pred_y.transform(evidence)\n",
        "\n",
        "# print(distances)\n",
        "\n",
        "# centers = kmeans.cluster_centers_\n",
        "# transformed_centers = pca.transform(centers)\n",
        "plt.scatter(transformed[:][0],transformed[:][1],c=pred_y.labels_.astype(float))\n",
        "# plt.scatter(kmeans.cluster_centers_[:, 0], kmeans.cluster_centers_[:, 1], s=300, c='red')\n",
        "plt.show()"
      ],
      "metadata": {
        "id": "YaS5Na3yaC9-",
        "colab": {
          "base_uri": "https://localhost:8080/",
          "height": 265
        },
        "outputId": "4852f479-3ea3-423a-a1a5-779c1bdbc921"
      },
      "execution_count": 9,
      "outputs": [
        {
          "output_type": "display_data",
          "data": {
            "text/plain": [
              "<Figure size 432x288 with 1 Axes>"
            ],
            "image/png": "[encoded data removed]"
          },
          "metadata": {
            "needs_background": "light"
          }
        }
      ]
    },
    {
      "cell_type": "markdown",
      "source": [
        "**1. Cluster cardinality**\n",
        "\n",
        "Cluster cardinality is the number of examples per cluster\n",
        "\n",
        "**2. Cluster magnitude**\n",
        "\n",
        "Cluster magnitude is the sum of distances from all examples to the centroid of the cluster.\n",
        "\n",
        "**3. Silhouette Coefficient**\n",
        "\n",
        "high coeff: well defined clusters"
      ],
      "metadata": {
        "id": "Ujn6v44LnOY1"
      }
    },
    {
      "cell_type": "code",
      "source": [
        "plot_cluster_cardinality(pred_y.labels_)\n",
        "\n",
        "plot_cluster_magnitude(evidence, pred_y.labels_, pred_y.cluster_centers_,euclidean)\n",
        "\n",
        "plot_magnitude_vs_cardinality(evidence, pred_y.labels_, pred_y.cluster_centers_, euclidean)\n",
        "\n",
        "plt.show()\n",
        "\n",
        "# metrics.silhouette_score(evidence, pred_y.labels_, metric='euclidean')\n",
        "\n",
        "Sil = metrics.silhouette_score(evidence, pred_y.labels_, metric='euclidean')\n",
        "CH = metrics.calinski_harabasz_score(evidence, pred_y.labels_)\n",
        "DB = metrics.davies_bouldin_score(evidence, pred_y.labels_)\n",
        "\n",
        "print(Sil, CH, DB)"
      ],
      "metadata": {
        "id": "CXuwZzPdm4gL"
      },
      "execution_count": null,
      "outputs": []
    }
  ]
}